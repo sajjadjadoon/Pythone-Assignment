{
 "cells": [
  {
   "cell_type": "code",
   "execution_count": 11,
   "id": "f50b6bab",
   "metadata": {},
   "outputs": [
    {
     "name": "stdout",
     "output_type": "stream",
     "text": [
      "Enter 1st Num: 2\n",
      "Enter 2nd Num: 2\n",
      "sum of numbers:  4\n"
     ]
    }
   ],
   "source": [
    "num1 = int(input(\"Enter 1st Num: \"));\n",
    "num2 = int(input(\"Enter 2nd Num: \"));\n",
    "add = num1 + num2;\n",
    "\n",
    "print(\"sum of numbers: \",add);\n"
   ]
  },
  {
   "cell_type": "markdown",
   "id": "176595df",
   "metadata": {},
   "source": [
    " "
   ]
  },
  {
   "cell_type": "code",
   "execution_count": null,
   "id": "703971f5",
   "metadata": {},
   "outputs": [],
   "source": []
  }
 ],
 "metadata": {
  "kernelspec": {
   "display_name": "Python 3 (ipykernel)",
   "language": "python",
   "name": "python3"
  },
  "language_info": {
   "codemirror_mode": {
    "name": "ipython",
    "version": 3
   },
   "file_extension": ".py",
   "mimetype": "text/x-python",
   "name": "python",
   "nbconvert_exporter": "python",
   "pygments_lexer": "ipython3",
   "version": "3.9.7"
  }
 },
 "nbformat": 4,
 "nbformat_minor": 5
}
